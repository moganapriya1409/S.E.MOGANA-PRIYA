{
  "nbformat": 4,
  "nbformat_minor": 0,
  "metadata": {
    "colab": {
      "provenance": [],
      "authorship_tag": "ABX9TyOlMVbh8UzTMMAG3XyGzHUG",
      "include_colab_link": true
    },
    "kernelspec": {
      "name": "python3",
      "display_name": "Python 3"
    },
    "language_info": {
      "name": "python"
    }
  },
  "cells": [
    {
      "cell_type": "markdown",
      "metadata": {
        "id": "view-in-github",
        "colab_type": "text"
      },
      "source": [
        "<a href=\"https://colab.research.google.com/github/moganapriya1409/S.E.MOGANA-PRIYA/blob/main/ASSIGNMENT_2_FILE.ipynb\" target=\"_parent\"><img src=\"https://colab.research.google.com/assets/colab-badge.svg\" alt=\"Open In Colab\"/></a>"
      ]
    },
    {
      "cell_type": "code",
      "execution_count": null,
      "metadata": {
        "id": "8kvc04g8f8iX"
      },
      "outputs": [],
      "source": []
    },
    {
      "cell_type": "code",
      "source": [
        "file=open(\"mark sheet\",\"r\")\n",
        "print(file.read())\n",
        "file=open(\"mark sheet\",\"w\")\n",
        "file.write(\"swetha\")\n",
        "file=open(\"mark sheet\",\"r\")\n",
        "print(file.read())\n",
        "file=open(\"mark sheet\",\"a\")\n",
        "file.write(\"\\n class 10\")\n",
        "file=open(\"mark sheet\",\"r\")\n",
        "print(file.read())\n",
        "file=open(\"mark sheet\",\"a\")\n",
        "file.write(\"\\n result\")\n",
        "file=open(\"mark sheet\",\"r\")\n",
        "print(file.read())\n",
        "file=open(\"mark sheet\",\"a\")\n",
        "file.write(\"\\nPASS \\n\")\n",
        "file=open(\"mark sheet\",\"r\")\n",
        "print(file.read())\n",
        "marks=[\"\\ntamil :98 \\n\",\"english :99 \\n\",\"maths :100 \\n\",\"computer science :100 \\n\"]\n",
        "with open(\"mark sheet\",\"a\")as result:\n",
        "  result.writelines(marks)\n",
        "with open(\"mark sheet\",\"r\")as result:\n",
        "  print(result.read())\n",
        "  \n",
        "\n"
      ],
      "metadata": {
        "colab": {
          "base_uri": "https://localhost:8080/"
        },
        "id": "DlAfTU0eRhJB",
        "outputId": "31f4a193-73b1-4387-946c-1ede32082d85"
      },
      "execution_count": null,
      "outputs": [
        {
          "output_type": "stream",
          "name": "stdout",
          "text": [
            "NAME:\n",
            "CLASS:\n",
            "SUBJECT&MARKS:\n",
            "RESULT:\n",
            "swetha\n",
            "swetha\n",
            " class 10\n",
            "swetha\n",
            " class 10\n",
            " result\n",
            "swetha\n",
            " class 10\n",
            " result\n",
            "PASS \n",
            "\n",
            "swetha\n",
            " class 10\n",
            " result\n",
            "PASS \n",
            "\n",
            "tamil :98 \n",
            "english :99 \n",
            "maths :100 \n",
            "computer science :100 \n",
            "\n"
          ]
        }
      ]
    },
    {
      "cell_type": "code",
      "source": [],
      "metadata": {
        "id": "MqVjVMVfhGEk"
      },
      "execution_count": null,
      "outputs": []
    }
  ]
}